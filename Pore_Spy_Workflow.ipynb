import glob
import numpy as np
import matplotlib.pyplot as plt
import skimage as sk
import tifffile as tifffile
import os as os
import numpy as np
import pandas as pd
from skimage import filters, transform, io

from skimage import filters, io, img_as_ubyte
from skimage.data import camera
import numpy as np
import matplotlib.pyplot as plt
import skimage as sk
import math

from skimage import filters, io
from skimage.data import camera
from skimage import data, io,img_as_float64, img_as_float32, exposure
from skimage.exposure import histogram
from skimage.color import label2rgb
from scipy import ndimage as ndi
import skimage as sk
# from skimage.external import tifffile
from matplotlib import cm
from matplotlib import pyplot as plt
from skimage import img_as_float64, img_as_int
from mpl_toolkits.mplot3d.art3d import Poly3DCollection, Line3DCollection
import scipy as scipy

import numpy as np

from scipy import ndimage as ndi

from skimage import (exposure, feature, filters, io, measure,
                      morphology, restoration, segmentation, transform,
                      util)
from skimage.measure import label, regionprops, regionprops_table
from skimage.morphology import remove_small_objects
import porespy as ps
#name your new tiff stack here 
# with tifffile.TiffWriter('/content/drive/MyDrive/FCN and Deeplab for Tiina/amf test.tif', bigtiff=True) as stack:
# #put the file path to the folder of images you want to stack here
#     dir_name = '/content/drive/MyDrive/FCN and Deeplab for Tiina/amf training/masks/'
#     filenames = os.listdir(dir_name)
#     #remove extranious file info from the images here by splitting before and after the image #; this will make sure the images are ordered properly in the stack
#     sort_idx = np.argsort([int(filename.split('1h1')[1].split('.png')[0]) for filename in filenames])
#     for i in sort_idx:
#         filename = dir_name + filenames[i]
        
# #         image=np.array(filename, dtype='ubyte')
# #         image=np.array(filename)
#         stack.save(io.imread(filename))


# %matplotlib inline

#***************************load tiff stack here
data = io.imread('/pscratch/sd/d/drippner/Liz Seeds/Preferm_3_endosperm_pores.tiff')
data=np.array(data)
# data=scipy.ndimage.zoom(data,[1,1,1])
data = np.where(data>0, 1, 0)
#data=np.array(data, dtype=int)
#data=img_as_int(data)

print("shape: {}".format(data.shape))
print("dtype: {}".format(data.dtype))
print("range: ({}, {})".format(data.min(), data.max()))
#io.imsave('data.tiff', data)
#io.imshow('data.tiff', cmap='binary')
print(data.shape[1])
print()

#i'm leaving this in because we might be able to use it to alter the spacing of your images.
#The microscope reports the following spacing
# original_spacing = np.array([1, 1, 1])

# # We downsampled each slice 4x to make the data smaller
# rescaled_spacing = original_spacing * [4, 4, 4]

# # Normalize the spacing so that pixels are a distance of 1 apart
# spacing = rescaled_spacing / rescaled_spacing

# print("microscope spacing: {}\n".format(original_spacing))
# print("after rescaling images: {}\n".format(rescaled_spacing))
# print("normalized spacing: {}\n".format(spacing))


def show_plane(ax, plane, cmap="gray", title=None):
    ax.imshow(plane, cmap=cmap)
    ax.set_xticks([])
    ax.set_yticks([])
    
    if title:
        ax.set_title(title)
def slice_in_3D(ax, i):
    # From:
    # https://stackoverflow.com/questions/44881885/python-draw-3d-cube

    import numpy as np
    from mpl_toolkits.mplot3d.art3d import Poly3DCollection, Line3DCollection

    Z = np.array([[0, 0, 0],
                  [1, 0, 0],
                  [1, 1, 0],
                  [0, 1, 0],
                  [0, 0, 1],
                  [1, 0, 1],
                  [1, 1, 1],
                  [0, 1, 1]])

    Z = Z * data.shape

    r = [-1,1]

    X, Y = np.meshgrid(r, r)
    # plot vertices
    ax.scatter3D(Z[:,0], Z[:,1], Z[:,2])

    # list of sides' polygons of figure
    verts = [[Z[0], Z[1], Z[2], Z[3]],
             [Z[4], Z[5], Z[6], Z[7]], 
             [Z[0], Z[1], Z[5], Z[4]], 
             [Z[2], Z[3], Z[7], Z[6]], 
             [Z[1], Z[2], Z[6], Z[5]],
             [Z[4], Z[7], Z[3], Z[0]], 
             [Z[2], Z[3], Z[7], Z[6]]]

    # plot sides
    ax.add_collection3d(
        Poly3DCollection(verts, facecolors=(0, 1, 1, 0.25), linewidths=1,
                         edgecolors='darkblue')
    )

    verts = np.array([[[0, 0, 0],
                       [0, 0, 1],
                       [0, 1, 1],
                       [0, 1, 0]]])
    verts = verts * (data.shape[0], data.shape[1], data.shape[2])
    verts += [i, 0, 0]

    ax.add_collection3d(Poly3DCollection(verts, 
     facecolors='magenta', linewidths=1, edgecolors='black'))

    ax.set_xlabel('plane')
    ax.set_ylabel('col')
    ax.set_zlabel('row')

    # Auto-scale plot axes
    scaling = np.array([getattr(ax, 'get_{}lim'.format(dim))() for dim in 'xyz'])
    ax.auto_scale_xyz(*[[np.min(scaling), np.max(scaling)]] * 3)

    #plt.show()
    
from ipywidgets import interact

def explore_slices(data, cmap="gray"):
    from ipywidgets import interact
    N = len(data)

    @interact(plane=(0, N - 1))
    def display_slice(plane=(N/2)):
        fig, ax = plt.subplots(figsize=(20, 5))

        ax_3D = fig.add_subplot(133, projection="3d")

        show_plane(ax, data[plane], title=f'Plane {plane}', cmap=cmap)
        slice_in_3D(ax_3D, plane)

        plt.show()

    return display_slice

label_data=label(data)
label_data=morphology.remove_small_objects(label_data,1000)
label_data=label(label_data)
relabeled = label2rgb(label_data, bg_label=0)
explore_slices(relabeled);
# print("original aka data")
# def plot_hist(ax, data, title=None):
#     ax.hist(data.ravel(), bins=256)
#     ax.ticklabel_format(axis="y", style="scientific", scilimits=(0, 0))
    
#     if title:
#         ax.set_title(title)
# I included this code for histogram normalization because it might help you process the images initially? 
# feel free not to use
# # equalized = exposure.equalize_hist(data)

# # i used the equalized image because the scale is from 0-1 and the region properties command seems to work best with it.
# feel free to try using the orginal file labled 'data'
# interior_label = data


# print("interior label: {}".format(np.unique(interior_label)))

# interior_label=img_as_int(interior_label)
# relabeled, _, _ = segmentation.relabel_sequential(interior_label)
# def surface_areas(regionmask):
#     surface_areas = ps.metrics.region_surface_areas(regions=regionmask)
#     regions_sur = np.copy(regionmask)
#     for i in range(0, len(surface_areas)):
#         mask = np.array(np.where(regions_sur == i, regions_sur, 0), dtype=bool)
#         regions_sur[mask] = surface_areas[i]
#     return regions_sur(regionmask)

# print("relabeled labels: {}".format(np.unique(relabeled)))
props=regionprops_table(label_data, properties=['label','area'])
df_props=pd.DataFrame(props)





voxel_size=1.31
surface_areas = ps.metrics.region_surface_areas(regions=label_data, voxel_size=voxel_size)
vols = ps.metrics.region_volumes(regions=label_data,  mode='voxel')


# df_props.insert(4,"Surface Areas", surface_areas)

print(df_props)
fig, ax = plt.subplots(1, 2, figsize=[10, 4])
ax[0].hist(surface_areas, edgecolor='k');
ax[0].set_title("PDF scaling included in the result");
plt.xscale('log');
# surface_areas = ps.metrics.region_surface_areas(regions=label_data)
ax[1].hist(surface_areas, edgecolor='k');
ax[1].set_title("PDF scaling included in the result");
plt.xscale('log')

df_vols=pd.DataFrame(vols, columns=["Volumes"])
df_sa=pd.DataFrame(surface_areas, columns=["Surface Area"])
print(df_vols)
result = pd.concat([df_props, df_vols,df_sa], axis=1)
print(result)



# props = ps.metrics.regionprops_3D(relabeled)
# regionprops = measure.regionprops(relabeled)

# supported = [] 
# unsupported = []

# for prop in regionprops[0]:
#     try:
#         regionprops[0][prop]
#         supported.append(prop)
#     except NotImplementedError:
#         unsupported.append(prop)

# print("Supported properties:")
# print("  " + "\n  ".join(supported))
# print()
# print("Unsupported properties:")
# print("  " + "\n  ".join(unsupported))

# #check this parameter, make sure computer measured the correct number of regions
# print()
# print("measured regions: {}".format(np.unique(relabeled)))

# #get volumes in pixels

# volumes = [regionprop.area for regionprop in regionprops]
# df=pd.DataFrame(volumes)
# df.to_csv('/pscratch/sd/d/drippner/Liz Seeds/Preferm_3.csv')
# print("total pixels: {}".format(volumes))

# max_volume = np.max(volumes)
# mean_volume = np.mean(volumes)
# min_volume = np.min(volumes)
# sd_volume = np.std(volumes)
# total_volume = np.sum(volumes)

# print("Volume statistics")
# print("total: {}".format(total_volume))
# print("min: {}".format(min_volume))
# print("max: {}".format(max_volume))
# print("mean: {:0.2f}".format(mean_volume))
# print("standard deviation: {:0.2f}".format(sd_volume))

# print()
